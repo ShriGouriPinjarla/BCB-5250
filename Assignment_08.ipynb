{
 "cells": [
  {
   "cell_type": "markdown",
   "id": "2dcd7e88-7974-44f5-a970-6b0dd711e996",
   "metadata": {},
   "source": [
    "## Problem_12 ##"
   ]
  },
  {
   "cell_type": "code",
   "execution_count": 1,
   "id": "7eba7915-0b39-48ee-a56f-7b8212ccec32",
   "metadata": {},
   "outputs": [
    {
     "name": "stdout",
     "output_type": "stream",
     "text": [
      "574888488199\n"
     ]
    }
   ],
   "source": [
    "def rabbit_pairs(n, k):\n",
    "    if n == 1 or n == 2:\n",
    "        return 1\n",
    "    else:\n",
    "        # Initialize variables for the first two months\n",
    "        prev_month = 1\n",
    "        current_month = 1\n",
    "        # Calculate the number of rabbit pairs for each subsequent month\n",
    "        for _ in range(3, n + 1):\n",
    "            # Calculate the number of rabbit pairs for the current month\n",
    "            next_month = current_month + (k * prev_month)\n",
    "            # Update variables for the next iteration\n",
    "            prev_month = current_month\n",
    "            current_month = next_month\n",
    "        return current_month\n",
    "\n",
    "\n",
    "n = 34\n",
    "k = 3  \n",
    "total_pairs = rabbit_pairs(n, k)\n",
    "print(total_pairs)\n"
   ]
  },
  {
   "cell_type": "markdown",
   "id": "aed978fa-84d6-4d0b-988f-3b16e87b1c81",
   "metadata": {},
   "source": [
    "## Problem_13 ##"
   ]
  },
  {
   "cell_type": "code",
   "execution_count": 2,
   "id": "7d4212c0-0c82-4dd6-ba2b-555490656305",
   "metadata": {},
   "outputs": [
    {
     "name": "stdout",
     "output_type": "stream",
     "text": [
      "474\n"
     ]
    }
   ],
   "source": [
    "def hamming_distance(s,t):\n",
    "    count = 0\n",
    "    for i in range(len(s)):\n",
    "        if s[i] != t[i]:\n",
    "            count += 1\n",
    "    return count\n",
    "    \n",
    "s = \"AAACACTTGTCGAAATAGTACTCGGGACCGACAACTAAAAACGCGGCAGCTGTAGGCCTAATAAGTGGCGAAATTCCTCGGTACCGCGCTCGTGGAATACGCAGATGTCCAGGACCGCGCCGCTACGCGGGTTGTAGATGACGCGGACGTCGTCCATGAAGACAGTGTCTGGAGCGTTACTGGAGAATTGGTAGCGCCAACTCTACTGAAGACGTGATTGAAGATCGTCGTTAAGTCCATTGGACGGAATGTCACTAATGGGCAAGGATGCCGGCAGGATCACATAAAGTTCTAATATTTTATTAAACGCCCTGGCCTCCAAACCTCCGGGGGACGCAAACATTCCGTTTAGAGTAGAGCACTCGACATCATAGCTATCTGATTTACGACGCGAGCGAAGCTAAGTGGCAAGGGGGGAGAACGGGCCCCCACGAAGACTCACATCATCCATAACTGTAGTGTGGAAATTCTATTCTTCAGTATGTACTCCCCCCAACCAAGTGAGACCTAGCCACACAGTTAGCAATAACAATGTAGGCTAACAGGCATTCAGGCCAGTAAACGCGGGGTAAGGGCAACACCCGAAAACCGTTGGGCCTATTTCCTGTGGTGTAACAGGCAAGATCCTCTGCAAGCTCCCTACTCAACCGCTAGTCTCACAACCAAGATGCGTTCCTAAAGAGGGCACGTCAATCGACGAAGCTTACGGCGCCCTATGTTAGCACGCCAATGTGCCGTTTCACTTCTCGACGCTCGTTATACGAGAAATGCTGGCCACAAGAAGTGATCACACGCCCAATGCTGATCAAGTATTATGATATCACTACAATGCCGGTGCACCTCAAAACACGCCCCACGCAGGCTCTCCAAGGGTCCTGCATAACGTCGCTTTCGATGCGCCCGCGTCATCTGGCATATCTTACTGGGAACTCCAGGTGACCCCGAAATA\"\n",
    "t = \"AAGCTATAGTAGCACTACTAGTGGTGATCGCCAGCCTAACACGTAGAATGCGTGGCCATATTGAGTAGCCTCAGTCAATAGTACCTTACATGACTGAGGCACAATGGGTCAGGTCGGTCCCGCTACGTAGGCTAAAACCGACGCGGCTCTCGCACGTCAAAACAGGTTGTGAGACGTGTGTGGCGGATATCCCTCATCGAGTTGTACTAAGAGGTAATTGACTAACGGCTGAACGGCTCTCAAACGATTGACCGTTCAAAAGCAGGGAGTCCAGCTGGATGACCCCAAGCCGATCAAGTTGTTTACACGGCCTTAGACTCCCAACTCAGTGGGTCTCAAACGCTACTTATTGCGGTGTCAGCTTGACATGAAGGTAATTTAAAAAACGCGAAGGGCTATGGAAAGGGTAGATGCGGGAGACTCTGACACTACGTAATCGCCTATCATACTTGCGTATATACTATTGCATCAATTTTTGGGCGTGCGTGCCGACGGTCATATTCTCAACTGGAAAACGATTGAGCAATTACTCCGACTGCAACTCGGGGTTCACCACGGTAATAGCGTCGCGATTGCACTTGGGAAAGCCCTATGTGCAGGTGTACAATGTTGGTACAACTAAGATACTATGATAGTCTCCGCACTCACGAGTCTCCATGTGAGCGGGACGCCTGTATCTGGAATCTTACCCATTAGCTAAAGCCTAGAGCTCCATATTGAAGATACCCTAGAATCCGTATCACATATCGGCTATCTAGCCACGCGTCACGGTTGCAAACCCCCGTTACCTAAAGCAAAAAGCTTATCAGGATTTAATGAACCCCTACGAGGCCGATACGCCGACAAACCGGCCCCAAGTTGGCCCGACAGTAGTCCCTCATCACAACTGCGACCATGCGCCCGCCATTTCCCGTGCAGATGTATAATAATCCACGGCGATCTTGTAATT\"\n",
    "\n",
    "print(hamming_distance(s, t))       "
   ]
  },
  {
   "cell_type": "markdown",
   "id": "c29a48e9-7037-4270-8888-9ac0c19774a8",
   "metadata": {},
   "source": [
    "## Problem_14 ##"
   ]
  },
  {
   "cell_type": "code",
   "execution_count": 3,
   "id": "a8032294-819a-4cab-bdfe-cfa48e7892d1",
   "metadata": {},
   "outputs": [
    {
     "name": "stdout",
     "output_type": "stream",
     "text": [
      "0.6907502131287298\n"
     ]
    }
   ],
   "source": [
    "def calculate_dominant_probability(k, m, n):\n",
    "    numerator = m * m + 4 * n * n + 4 * m * n - 4 * n - m\n",
    "    denominator = 4 * (k + m + n) * (k + m + n - 1)\n",
    "    probability_dominant = 1 - float(numerator) / denominator\n",
    "    return probability_dominant\n",
    "\n",
    "# Sample dataset\n",
    "genotypes = {'homozygous_dominant': 16, 'heterozygous': 29, 'homozygous_recessive': 24}\n",
    "k, m, n = genotypes['homozygous_dominant'], genotypes['heterozygous'], genotypes['homozygous_recessive']\n",
    "\n",
    "# Calculate and print the probability\n",
    "probability = calculate_dominant_probability(k, m, n)\n",
    "print(probability)\n"
   ]
  },
  {
   "cell_type": "code",
   "execution_count": null,
   "id": "b1d5b935-82e1-4931-ab5f-87849cb2e8da",
   "metadata": {},
   "outputs": [],
   "source": []
  }
 ],
 "metadata": {
  "kernelspec": {
   "display_name": "Python 3 (ipykernel)",
   "language": "python",
   "name": "python3"
  },
  "language_info": {
   "codemirror_mode": {
    "name": "ipython",
    "version": 3
   },
   "file_extension": ".py",
   "mimetype": "text/x-python",
   "name": "python",
   "nbconvert_exporter": "python",
   "pygments_lexer": "ipython3",
   "version": "3.12.1"
  }
 },
 "nbformat": 4,
 "nbformat_minor": 5
}
