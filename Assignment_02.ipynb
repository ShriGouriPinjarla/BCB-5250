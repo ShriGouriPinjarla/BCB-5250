{
  "nbformat": 4,
  "nbformat_minor": 0,
  "metadata": {
    "colab": {
      "provenance": []
    },
    "kernelspec": {
      "name": "python3",
      "display_name": "Python 3"
    },
    "language_info": {
      "name": "python"
    }
  },
  "cells": [
    {
      "cell_type": "code",
      "execution_count": 1,
      "metadata": {
        "id": "m4sqi_eyuK1i",
        "outputId": "2cb9f7cb-510c-422b-a225-e13ba49ebe90",
        "colab": {
          "base_uri": "https://localhost:8080/"
        }
      },
      "outputs": [
        {
          "output_type": "stream",
          "name": "stdout",
          "text": [
            "Course_name:  BCB-5250: Introduction to Bioinformatics II\n"
          ]
        }
      ],
      "source": [
        "course_name = 'BCB-5250: Introduction to Bioinformatics II'\n",
        "\n",
        "print(\"Course_name: \", course_name)"
      ]
    }
  ]
}