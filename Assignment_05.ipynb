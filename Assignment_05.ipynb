{
 "cells": [
  {
   "cell_type": "markdown",
   "id": "16047b54-0599-4ced-9757-89ffbbc8bf11",
   "metadata": {},
   "source": [
    "## Problem_01 ##"
   ]
  },
  {
   "cell_type": "code",
   "execution_count": 1,
   "id": "75336cda-6194-4f1d-9d21-080679988785",
   "metadata": {},
   "outputs": [
    {
     "name": "stdout",
     "output_type": "stream",
     "text": [
      "Hello, World!\n",
      "The Zen of Python, by Tim Peters\n",
      "\n",
      "Beautiful is better than ugly.\n",
      "Explicit is better than implicit.\n",
      "Simple is better than complex.\n",
      "Complex is better than complicated.\n",
      "Flat is better than nested.\n",
      "Sparse is better than dense.\n",
      "Readability counts.\n",
      "Special cases aren't special enough to break the rules.\n",
      "Although practicality beats purity.\n",
      "Errors should never pass silently.\n",
      "Unless explicitly silenced.\n",
      "In the face of ambiguity, refuse the temptation to guess.\n",
      "There should be one-- and preferably only one --obvious way to do it.\n",
      "Although that way may not be obvious at first unless you're Dutch.\n",
      "Now is better than never.\n",
      "Although never is often better than *right* now.\n",
      "If the implementation is hard to explain, it's a bad idea.\n",
      "If the implementation is easy to explain, it may be a good idea.\n",
      "Namespaces are one honking great idea -- let's do more of those!\n"
     ]
    }
   ],
   "source": [
    "print(\"Hello, World!\")\n",
    "import this"
   ]
  },
  {
   "cell_type": "markdown",
   "id": "75fac6a8-0b01-432d-84a1-590effdb493a",
   "metadata": {},
   "source": [
    "## Problem_02 ##"
   ]
  },
  {
   "cell_type": "code",
   "execution_count": 3,
   "id": "0ecc82f9-16d3-4b63-a535-120ce3687e54",
   "metadata": {},
   "outputs": [
    {
     "name": "stdout",
     "output_type": "stream",
     "text": [
      "1691045\n"
     ]
    }
   ],
   "source": [
    "##Pythagorean theorem - c**2 = a**2 + b**2\n",
    "def square_of_hypothenuse(a, b):\n",
    "   hypothenuse_squared = a**2 + b**2\n",
    "   return hypothenuse_squared\n",
    "a = 991\n",
    "b = 842\n",
    "print(square_of_hypothenuse(a, b))\n",
    "      "
   ]
  },
  {
   "cell_type": "markdown",
   "id": "b6c62453-8bf4-49a2-8e17-03f2b70e42cc",
   "metadata": {},
   "source": [
    "## Problem_03 ##"
   ]
  },
  {
   "cell_type": "code",
   "execution_count": 4,
   "id": "4bdd4a3a-3cfc-4dcb-b9a0-7569dfa3f2e6",
   "metadata": {},
   "outputs": [
    {
     "name": "stdout",
     "output_type": "stream",
     "text": [
      "Bombus gallinago\n"
     ]
    }
   ],
   "source": [
    "def slice_the_sequence(sequence, a, b, c, d):\n",
    "    sliced_string = sequence[a:b+1] +\" \"+ sequence[c:d+1]\n",
    "    return sliced_string\n",
    "\n",
    "sequence = \"RS6mwhdCNGa3SjRrtqUbWbXtI4raWX1cBombuspaenUODxPwVTObuo7Iw9O45sPKYo7JonNMZNp9Z328S0mN6MZ7bGyAEDAcVKzuCnv8sNvOtPB5iQSoPuS558jSJLqLK6Ehgallinagookn0Ewg1AbEvgmyOs97tu8PWykDsGU9phNqZYWKzGuc.\"\n",
    "a, b, c, d = 32, 37, 132, 140\n",
    "print(slice_the_sequence(sequence, a, b, c, d))"
   ]
  },
  {
   "cell_type": "markdown",
   "id": "29025793-0caa-4e60-9ebd-9c52bf018e00",
   "metadata": {},
   "source": [
    "## Problem_04 ##"
   ]
  },
  {
   "cell_type": "code",
   "execution_count": 5,
   "id": "8d49d3f6-2044-41d7-aac0-13ca5863d56c",
   "metadata": {},
   "outputs": [
    {
     "name": "stdout",
     "output_type": "stream",
     "text": [
      "16559592\n"
     ]
    }
   ],
   "source": [
    "def sum_odds(a, b):\n",
    "    sum = 0 \n",
    "    for num in range(a, b+1):\n",
    "        if num % 2 == 1:\n",
    "            sum += num \n",
    "    return sum\n",
    "\n",
    "a = 4295\n",
    "b = 9201\n",
    "print(sum_odds(a, b))"
   ]
  },
  {
   "cell_type": "markdown",
   "id": "3f9141bc-30db-4595-be2e-c55644ddc3f7",
   "metadata": {},
   "source": [
    "## Problem_05 ##"
   ]
  },
  {
   "cell_type": "code",
   "execution_count": 12,
   "id": "008eb924-b86d-44bb-8f16-2f856536675e",
   "metadata": {},
   "outputs": [],
   "source": [
    "def extract_even_lines(input_directory, output_directory):\n",
    "    input_path = input_directory + \"/rosalind_ini5.txt\"  \n",
    "    output_path = output_directory + \"/output_rosalind5.txt\"  \n",
    "    \n",
    "    with open(input_path, 'r') as input_file:\n",
    "        lines = input_file.readlines()\n",
    "        \n",
    "    with open(output_path, 'w') as output_file:\n",
    "        for line_number in range(0, len(lines)):\n",
    "            if (line_number + 1) % 2 == 0:  \n",
    "                output_file.write(lines[line_number])\n",
    "                \n",
    "input_directory = \"/Users/shrigouripinjarla/Downloads\"\n",
    "output_directory = \"/Users/shrigouripinjarla/Downloads\"\n",
    "extract_even_lines(input_directory, output_directory)\n",
    "\n"
   ]
  },
  {
   "cell_type": "code",
   "execution_count": 15,
   "id": "8c0cc4a7-44e9-4266-934b-6cb025531859",
   "metadata": {},
   "outputs": [],
   "source": [
    "## Some things in life are bad, they can really make you mad\n",
    "## Other things just make you swear and curse\n",
    "## When you're chewing on life's gristle, don't grumble give a whistle\n",
    "## This will help things turn out for the best\n",
    "## Always look on the bright side of life\n",
    "## Always look on the right side of life\n",
    "## If life seems jolly rotten, there's something you've forgotten\n",
    "## And that's to laugh and smile and dance and sing\n",
    "## When you're feeling in the dumps, don't be silly, chumps\n",
    "## Just purse your lips and whistle, that's the thing\n",
    "## So, always look on the bright side of death\n",
    "## Just before you draw your terminal breath\n",
    "## Life's a counterfeit and when you look at it\n",
    "## Life's a laugh and death's the joke, it's true\n",
    "## You see, it's all a show, keep them laughing as you go\n",
    "## Just remember the last laugh is on you\n",
    "## Always look on the bright side of life\n",
    "## And always look on the right side of life\n",
    "## Always look on the bright side of life\n",
    "## And always look on the right side of life\n"
   ]
  },
  {
   "cell_type": "markdown",
   "id": "c32992b3-158a-4c22-ba2e-80232d9a6ce0",
   "metadata": {},
   "source": [
    "## Problem_06 ##"
   ]
  },
  {
   "cell_type": "code",
   "execution_count": 7,
   "id": "e3526227-4e00-4d68-b47e-cdb34d4bdbf8",
   "metadata": {},
   "outputs": [
    {
     "name": "stdout",
     "output_type": "stream",
     "text": [
      "When  1\n",
      "I  2\n",
      "find  1\n",
      "myself  1\n",
      "in  4\n",
      "times  1\n",
      "of  11\n",
      "trouble  1\n",
      "Mother  2\n",
      "Mary  2\n",
      "comes  2\n",
      "to  3\n",
      "me  4\n",
      "Speaking  3\n",
      "words  7\n",
      "wisdom  7\n",
      "let  30\n",
      "it  36\n",
      "be  41\n",
      "And  3\n",
      "my  1\n",
      "hour  1\n",
      "darkness  1\n",
      "she  1\n",
      "is  4\n",
      "standing  1\n",
      "right  1\n",
      "front  1\n",
      "Let  6\n",
      "Whisper  4\n",
      "when  2\n",
      "the  4\n",
      "broken  1\n",
      "hearted  1\n",
      "people  1\n",
      "living  1\n",
      "world  1\n",
      "agree  1\n",
      "There  4\n",
      "will  5\n",
      "an  4\n",
      "answer  4\n",
      "For  1\n",
      "though  1\n",
      "they  2\n",
      "may  1\n",
      "parted  1\n",
      "there  2\n",
      "still  2\n",
      "a  2\n",
      "chance  1\n",
      "that  2\n",
      "see  1\n",
      "night  1\n",
      "cloudy  1\n",
      "light  1\n",
      "shines  1\n",
      "on  1\n",
      "Shine  1\n",
      "until  1\n",
      "tomorrow  1\n",
      "wake  1\n",
      "up  1\n",
      "sound  1\n",
      "music  1\n",
      "yeah  2\n"
     ]
    }
   ],
   "source": [
    "def count_occurences(sequence):\n",
    "    words = sequence.split()\n",
    "    word_count = {}\n",
    "    \n",
    "    for word in words:\n",
    "        if word in word_count:\n",
    "            word_count[word] += 1\n",
    "        else:\n",
    "            word_count[word] = 1\n",
    "    \n",
    "    return word_count\n",
    "\n",
    "\n",
    "sequence = \"When I find myself in times of trouble Mother Mary comes to me Speaking words of wisdom let it be And in my hour of darkness she is standing right in front of me Speaking words of wisdom let it be Let it be let it be let it be let it be Whisper words of wisdom let it be And when the broken hearted people living in the world agree There will be an answer let it be For though they may be parted there is still a chance that they will see There will be an answer let it be Let it be let it be let it be let it be There will be an answer let it be Let it be let it be let it be let it be Whisper words of wisdom let it be Let it be let it be let it be let it be Whisper words of wisdom let it be And when the night is cloudy there is still a light that shines on me Shine until tomorrow let it be I wake up to the sound of music Mother Mary comes to me Speaking words of wisdom let it be Let it be let it be let it be yeah let it be There will be an answer let it be Let it be let it be let it be yeah let it be Whisper words of wisdom let it be\"\n",
    "occurrences = count_occurences(sequence)\n",
    "for word, count in occurrences.items():\n",
    "    print(word + \" \", count)"
   ]
  },
  {
   "cell_type": "code",
   "execution_count": null,
   "id": "78c72ce5-b362-4bc6-a88a-fa8cddbec92b",
   "metadata": {},
   "outputs": [],
   "source": []
  }
 ],
 "metadata": {
  "kernelspec": {
   "display_name": "Python 3 (ipykernel)",
   "language": "python",
   "name": "python3"
  },
  "language_info": {
   "codemirror_mode": {
    "name": "ipython",
    "version": 3
   },
   "file_extension": ".py",
   "mimetype": "text/x-python",
   "name": "python",
   "nbconvert_exporter": "python",
   "pygments_lexer": "ipython3",
   "version": "3.12.1"
  }
 },
 "nbformat": 4,
 "nbformat_minor": 5
}
